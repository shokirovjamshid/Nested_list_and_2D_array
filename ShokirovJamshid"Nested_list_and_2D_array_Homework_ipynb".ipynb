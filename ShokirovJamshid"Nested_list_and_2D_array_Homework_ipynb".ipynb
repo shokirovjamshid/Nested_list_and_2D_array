{
  "nbformat": 4,
  "nbformat_minor": 0,
  "metadata": {
    "colab": {
      "provenance": [],
      "include_colab_link": true
    },
    "kernelspec": {
      "name": "python3",
      "display_name": "Python 3"
    }
  },
  "cells": [
    {
      "cell_type": "markdown",
      "metadata": {
        "id": "view-in-github",
        "colab_type": "text"
      },
      "source": [
        "<a href=\"https://colab.research.google.com/github/shokirovjamshid/Nested_list_and_2D_array/blob/main/ShokirovJamshid%22Nested_list_and_2D_array_Homework_ipynb%22.ipynb\" target=\"_parent\"><img src=\"https://colab.research.google.com/assets/colab-badge.svg\" alt=\"Open In Colab\"/></a>"
      ]
    },
    {
      "cell_type": "code",
      "metadata": {
        "id": "-dShaND5jOlq"
      },
      "source": [
        "import matplotlib.pyplot as plt\n",
        "import math"
      ],
      "execution_count": null,
      "outputs": []
    },
    {
      "cell_type": "code",
      "metadata": {
        "id": "vJlMcVcUjavh"
      },
      "source": [
        "def arr_chess(n:int)->None:\n",
        "  '''\n",
        "  Draw a chessboard. board shape nxn\n",
        "\n",
        "  Args:\n",
        "    int: chess shape\n",
        "  returns:\n",
        "    list: Nested list\n",
        "  '''\n",
        "  a = []\n",
        "  for i in range(n):\n",
        "    b = []\n",
        "    for m in range(n):\n",
        "      if (m+i)%2==0:\n",
        "        b.append(0)\n",
        "      else:\n",
        "        b.append(1)\n",
        "    a.append(b)\n",
        "  return a"
      ],
      "execution_count": null,
      "outputs": []
    },
    {
      "cell_type": "code",
      "source": [
        "chess_image_8x8 = arr_chess(8)\n",
        "plt.imshow(chess_image_8x8,cmap='gray')\n",
        "plt.show()"
      ],
      "metadata": {
        "colab": {
          "base_uri": "https://localhost:8080/",
          "height": 430
        },
        "id": "McfVhvpcvy6n",
        "outputId": "e43a7241-63a8-406a-ae3f-aa709afd9d19"
      },
      "execution_count": null,
      "outputs": [
        {
          "output_type": "display_data",
          "data": {
            "text/plain": [
              "<Figure size 640x480 with 1 Axes>"
            ],
            "image/png": "[encoded data removed]"
          },
          "metadata": {}
        }
      ]
    },
    {
      "cell_type": "code",
      "source": [
        "chess_image_5x5 = arr_chess(5)\n",
        "plt.imshow(chess_image_5x5,cmap='gray')\n",
        "plt.show()"
      ],
      "metadata": {
        "colab": {
          "base_uri": "https://localhost:8080/",
          "height": 430
        },
        "id": "eeLhiU565l4R",
        "outputId": "6b7bc770-74fe-40cf-f410-4c74c28d5f8f"
      },
      "execution_count": null,
      "outputs": [
        {
          "output_type": "display_data",
          "data": {
            "text/plain": [
              "<Figure size 640x480 with 1 Axes>"
            ],
            "image/png": "[encoded data removed]"
          },
          "metadata": {}
        }
      ]
    },
    {
      "cell_type": "code",
      "source": [
        "def create_border(n):\n",
        "  '''\n",
        "  Draw a border image. image\n",
        "\n",
        "  Args:\n",
        "    int: shape\n",
        "  returns:\n",
        "    list: Nested list\n",
        "  '''\n",
        "  a = []\n",
        "  for i in range(n):\n",
        "    b = []\n",
        "    for m in range(n):\n",
        "      if i==0 or m==0 or i+1==n or m+1==n:\n",
        "        b.append(1)\n",
        "      else:\n",
        "        b.append(0)\n",
        "    a.append(b)\n",
        "  return a"
      ],
      "metadata": {
        "id": "vEq-fxMoIHSm"
      },
      "execution_count": null,
      "outputs": []
    },
    {
      "cell_type": "code",
      "source": [
        "border_5 = create_border(5)\n",
        "border_5"
      ],
      "metadata": {
        "colab": {
          "base_uri": "https://localhost:8080/"
        },
        "id": "11XZ8ScUP_Jp",
        "outputId": "e36d9c4f-5b5c-4a24-8f3e-08a4cb8ae0ad"
      },
      "execution_count": null,
      "outputs": [
        {
          "output_type": "execute_result",
          "data": {
            "text/plain": [
              "[[1, 1, 1, 1, 1],\n",
              " [1, 0, 0, 0, 1],\n",
              " [1, 0, 0, 0, 1],\n",
              " [1, 0, 0, 0, 1],\n",
              " [1, 1, 1, 1, 1]]"
            ]
          },
          "metadata": {},
          "execution_count": 6
        }
      ]
    },
    {
      "cell_type": "code",
      "source": [
        "plt.imshow(border_5,cmap='gray')\n",
        "plt.show()"
      ],
      "metadata": {
        "colab": {
          "base_uri": "https://localhost:8080/",
          "height": 430
        },
        "id": "CfGnEt-mQDL4",
        "outputId": "8c755475-2c3b-4e29-a823-07c56214f3f6"
      },
      "execution_count": null,
      "outputs": [
        {
          "output_type": "display_data",
          "data": {
            "text/plain": [
              "<Figure size 640x480 with 1 Axes>"
            ],
            "image/png": "[encoded data removed]"
          },
          "metadata": {}
        }
      ]
    },
    {
      "cell_type": "code",
      "source": [
        "border_3 = create_border(3)\n",
        "border_3"
      ],
      "metadata": {
        "colab": {
          "base_uri": "https://localhost:8080/"
        },
        "id": "C9fwqBQ_QFg6",
        "outputId": "723065ff-6b98-4550-f0b7-56a8e1fa140f"
      },
      "execution_count": null,
      "outputs": [
        {
          "output_type": "execute_result",
          "data": {
            "text/plain": [
              "[[1, 1, 1], [1, 0, 1], [1, 1, 1]]"
            ]
          },
          "metadata": {},
          "execution_count": 10
        }
      ]
    },
    {
      "cell_type": "code",
      "source": [
        "plt.imshow(border_3,cmap='gray')\n",
        "plt.show()"
      ],
      "metadata": {
        "colab": {
          "base_uri": "https://localhost:8080/",
          "height": 435
        },
        "id": "bubdKyGkQH2O",
        "outputId": "1b010263-c737-4218-8e2b-ca311e7630b4"
      },
      "execution_count": null,
      "outputs": [
        {
          "output_type": "display_data",
          "data": {
            "text/plain": [
              "<Figure size 640x480 with 1 Axes>"
            ],
            "image/png": "[encoded data removed]"
          },
          "metadata": {}
        }
      ]
    },
    {
      "cell_type": "code",
      "source": [
        "from pyparsing.helpers import col\n",
        "def rect_dioganal_right(column:list)->list:\n",
        "  '''\n",
        "  Draw a diagonal to the right of the rectangle.\n",
        "  A diagonal of a rectangle cuts the rectangle into two right triangles.\n",
        "\n",
        "  Arg:\n",
        "    list: column empty list.\n",
        "  return:\n",
        "    list: Nested list\n",
        "  '''\n",
        "  column = []\n",
        "  for i in range(10):\n",
        "    b = []\n",
        "    for m in range(10):\n",
        "      if i==m:\n",
        "        b.append(0)\n",
        "      else:\n",
        "        b.append(1)\n",
        "    column.append(b)\n",
        "  return column"
      ],
      "metadata": {
        "id": "Qyw0KVY81afB"
      },
      "execution_count": null,
      "outputs": []
    },
    {
      "cell_type": "code",
      "source": [
        "rect_image1 = rect_dioganal_right(column = [])\n",
        "plt.imshow(rect_image1, cmap='gray')\n",
        "plt.show()"
      ],
      "metadata": {
        "colab": {
          "base_uri": "https://localhost:8080/",
          "height": 430
        },
        "id": "w41U9iOf2NDO",
        "outputId": "594de3df-19b7-43e4-d3a6-9f15d2cfcd69"
      },
      "execution_count": null,
      "outputs": [
        {
          "output_type": "display_data",
          "data": {
            "text/plain": [
              "<Figure size 640x480 with 1 Axes>"
            ],
            "image/png": "[encoded data removed]"
          },
          "metadata": {}
        }
      ]
    },
    {
      "cell_type": "code",
      "source": [
        "def rect_dioganal_left(column:list)->list:\n",
        "  '''\n",
        "  Draw a diagonal to the left of the rectangle.\n",
        "  A diagonal of a rectangle cuts the rectangle into two right triangles.\n",
        "\n",
        "  Arg:\n",
        "    list: column empty list.\n",
        "  return:\n",
        "    list: 2d list\n",
        "  '''\n",
        "  column = []\n",
        "  for i in range(10):\n",
        "    b = []\n",
        "    for m in range(10):\n",
        "      if i+m==9:\n",
        "        b.append(0)\n",
        "      else:\n",
        "        b.append(1)\n",
        "    column.append(b)\n",
        "  return column"
      ],
      "metadata": {
        "id": "xIWvga0A2Vd5"
      },
      "execution_count": null,
      "outputs": []
    },
    {
      "cell_type": "code",
      "source": [
        "rect_image2 = rect_dioganal_left(column = [])\n",
        "plt.imshow(rect_image2, cmap='gray')\n",
        "plt.show()"
      ],
      "metadata": {
        "colab": {
          "base_uri": "https://localhost:8080/",
          "height": 430
        },
        "id": "TieJVFhU2kN9",
        "outputId": "02595d68-872f-4fad-ce47-218f4393788e"
      },
      "execution_count": null,
      "outputs": [
        {
          "output_type": "display_data",
          "data": {
            "text/plain": [
              "<Figure size 640x480 with 1 Axes>"
            ],
            "image/png": "[encoded data removed]"
          },
          "metadata": {}
        }
      ]
    },
    {
      "cell_type": "code",
      "metadata": {
        "id": "QqCk9U8IYAAv"
      },
      "source": [
        "def circle(column:list)->list:\n",
        "  \"\"\"\n",
        "  Draw a circle using a 2D array\n",
        "  Args:\n",
        "    list: empty list\n",
        "  retruns:\n",
        "    list: 2D list\n",
        "  \"\"\"\n",
        "  column = []\n",
        "  for i in range(501):\n",
        "    b = []\n",
        "    for m in range(501):\n",
        "      if (i-250)**2+(m-250)**2>=40000:\n",
        "        b.append(0)\n",
        "      else:\n",
        "        b.append(1)\n",
        "    column.append(b)\n",
        "  return column\n"
      ],
      "execution_count": null,
      "outputs": []
    },
    {
      "cell_type": "code",
      "source": [
        "plt.imshow(circle([]),cmap='gray')\n",
        "plt.title('Circle',color='blue',pad=20)\n",
        "plt.show()"
      ],
      "metadata": {
        "colab": {
          "base_uri": "https://localhost:8080/",
          "height": 472
        },
        "id": "2Gei9-7h5CjH",
        "outputId": "ae9fc82c-7438-4a24-b194-777654b6ace9"
      },
      "execution_count": null,
      "outputs": [
        {
          "output_type": "display_data",
          "data": {
            "text/plain": [
              "<Figure size 640x480 with 1 Axes>"
            ],
            "image/png": "[encoded data removed]"
          },
          "metadata": {}
        }
      ]
    },
    {
      "cell_type": "code",
      "source": [
        "def full_circle(column:list)->list:\n",
        "  \"\"\"\n",
        "  Draw a full circle using a 2D array\n",
        "  Args:\n",
        "    list: empty list\n",
        "  retruns:\n",
        "    list: 2D list\n",
        "  \"\"\"\n",
        "  column = []\n",
        "  for i in range(501):\n",
        "    b = []\n",
        "    for m in range(501):\n",
        "      if (i-250)**2+(m-250)**2>=40000:\n",
        "        b.append(1)\n",
        "      else:\n",
        "        b.append(0)\n",
        "    column.append(b)\n",
        "  return column\n",
        "  return"
      ],
      "metadata": {
        "id": "_2yhkapZ3QvZ"
      },
      "execution_count": null,
      "outputs": []
    },
    {
      "cell_type": "code",
      "source": [
        "plt.imshow(full_circle([]),cmap='gray')\n",
        "plt.title('Full circle inside',color='blue',pad=20)\n",
        "plt.show()"
      ],
      "metadata": {
        "colab": {
          "base_uri": "https://localhost:8080/",
          "height": 472
        },
        "id": "TF4xShYp3Wen",
        "outputId": "ced5c20b-ba1c-4097-e646-5d22bda53d1b"
      },
      "execution_count": null,
      "outputs": [
        {
          "output_type": "display_data",
          "data": {
            "text/plain": [
              "<Figure size 640x480 with 1 Axes>"
            ],
            "image/png": "[encoded data removed]"
          },
          "metadata": {}
        }
      ]
    },
    {
      "cell_type": "code",
      "source": [],
      "metadata": {
        "id": "zPfRt_l84mUM"
      },
      "execution_count": null,
      "outputs": []
    }
  ]
}